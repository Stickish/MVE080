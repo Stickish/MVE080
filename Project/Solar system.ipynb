{
 "cells": [
  {
   "cell_type": "code",
   "execution_count": 29,
   "id": "59f47223",
   "metadata": {},
   "outputs": [],
   "source": [
    "import bpy\n",
    "import numpy as np\n",
    "import pickle as pkl\n",
    "\n",
    "\n",
    "planets = ['Sun','Jupiter','Saturn','Uranus','Neptune','Pluto']"
   ]
  },
  {
   "cell_type": "code",
   "execution_count": 3,
   "id": "64912f8f",
   "metadata": {},
   "outputs": [],
   "source": [
    "f = open('v_out.pkl', 'rb')\n",
    "\n",
    "v_out = pkl.load(f)\n",
    "f.close()\n",
    "f = open('x_out.pkl', 'rb')\n",
    "\n",
    "x_out = pkl.load(f)\n",
    "f.close()"
   ]
  },
  {
   "cell_type": "code",
   "execution_count": 5,
   "id": "f07b58b5",
   "metadata": {},
   "outputs": [
    {
     "name": "stdout",
     "output_type": "stream",
     "text": [
      "(365, 6, 3)\n"
     ]
    }
   ],
   "source": [
    "print(x_out.shape)"
   ]
  },
  {
   "cell_type": "code",
   "execution_count": 79,
   "id": "6667cba5",
   "metadata": {},
   "outputs": [],
   "source": [
    "def add_ordbit(objectName:str='Jupiter'):\n",
    "    \n",
    "    assert objectName in planets, 'That is not a planet'\n",
    "    p_idx = planets.index(objectName)\n",
    "    \n",
    "    obj = bpy.data.objects[objectName]\n",
    "#     obj.rigid_body.enabled = True\n",
    "    obj.animation_data_clear()\n",
    "    \n",
    "    n_frames = 365\n",
    "    bpy.context.scene.frame_start = 1\n",
    "    bpy.context.scene.frame_end = n_frames\n",
    "    \n",
    "    for frame in range(n_frames):\n",
    "        \n",
    "        bpy.context.scene.frame_set(frame)\n",
    "        x,y,z = x_out[frame,p_idx,:]\n",
    "        vx,vy,vz = v_out[frame,p_idx,:] # one is for jupiter\n",
    "        obj.location.x = x*5\n",
    "        obj.location.y = y*5\n",
    "        obj.location.z = z*5\n",
    "#         obj. = (vx, vy, vz)\n",
    "        obj.keyframe_insert(data_path=\"location\")\n",
    "\n",
    "def add_trail(objectName:str='Jupiter'):\n",
    "    \n",
    "    # Get a reference to the object\n",
    "    obj = bpy.data.objects[objectName]\n",
    "#     print(obj)\n",
    "    # Add a particle system to the object\n",
    "    particle_system = obj.modifiers.new(type='PARTICLE_SYSTEM', name=objectName + '_trail')\n",
    "    \n",
    "#     print(particle_system.particle_system)\n",
    "    \n",
    "    # Set the particle system settings\n",
    "    settings = particle_system.particle_system.settings\n",
    "    settings.count = 1000  # Number of particles\n",
    "    settings.lifetime = 365  # Lifetime of the particles in frames\n",
    "    settings.frame_start = 1  # Start frame of the particle system\n",
    "    settings.frame_end = 365  # End frame of the particle system\n",
    "    settings.emit_from = 'VERT'  # Emit particles from the vertices of the object\n",
    "    settings.use_modifier_stack = True  # Use the object's modifier stack to determine particle emission\n",
    "\n",
    "    # Add a particle instance modifier to the object\n",
    "    particle_instance = obj.modifiers.new(type='PARTICLE_INSTANCE', name='Trail Instance')\n",
    "    print(dir(particle_instance))\n",
    "    # Set the particle instance settings\n",
    "    particle_instance.object = bpy.data.objects[objectName + '_trail']  # Object to use as the particle instance\n",
    "    particle_instance.use_parent_particle = True  # Use the parent particle system to determine particle emission"
   ]
  },
  {
   "cell_type": "code",
   "execution_count": 80,
   "id": "8be74a2e",
   "metadata": {},
   "outputs": [
    {
     "name": "stdout",
     "output_type": "stream",
     "text": [
      "['__doc__', '__module__', '__slots__', 'axis', 'bl_rna', 'index_layer_name', 'is_active', 'is_override_data', 'name', 'object', 'particle_amount', 'particle_offset', 'particle_system', 'particle_system_index', 'position', 'random_position', 'random_rotation', 'rna_type', 'rotation', 'show_alive', 'show_dead', 'show_expanded', 'show_in_editmode', 'show_on_cage', 'show_render', 'show_unborn', 'show_viewport', 'space', 'type', 'use_apply_on_spline', 'use_children', 'use_normal', 'use_path', 'use_preserve_shape', 'use_size', 'value_layer_name']\n"
     ]
    },
    {
     "ename": "KeyError",
     "evalue": "'bpy_prop_collection[key]: key \"Sun_trail\" not found'",
     "output_type": "error",
     "traceback": [
      "\u001b[1;31m---------------------------------------------------------------------------\u001b[0m",
      "\u001b[1;31mKeyError\u001b[0m                                  Traceback (most recent call last)",
      "Cell \u001b[1;32mIn[80], line 3\u001b[0m\n\u001b[0;32m      1\u001b[0m \u001b[38;5;28;01mfor\u001b[39;00m planet \u001b[38;5;129;01min\u001b[39;00m planets:\n\u001b[0;32m      2\u001b[0m     add_ordbit(planet)\n\u001b[1;32m----> 3\u001b[0m     \u001b[43madd_trail\u001b[49m\u001b[43m(\u001b[49m\u001b[43mplanet\u001b[49m\u001b[43m)\u001b[49m\n",
      "Cell \u001b[1;32mIn[79], line 48\u001b[0m, in \u001b[0;36madd_trail\u001b[1;34m(objectName)\u001b[0m\n\u001b[0;32m     46\u001b[0m \u001b[38;5;28mprint\u001b[39m(\u001b[38;5;28mdir\u001b[39m(particle_instance))\n\u001b[0;32m     47\u001b[0m \u001b[38;5;66;03m# Set the particle instance settings\u001b[39;00m\n\u001b[1;32m---> 48\u001b[0m particle_instance\u001b[38;5;241m.\u001b[39mobject \u001b[38;5;241m=\u001b[39m \u001b[43mbpy\u001b[49m\u001b[38;5;241;43m.\u001b[39;49m\u001b[43mdata\u001b[49m\u001b[38;5;241;43m.\u001b[39;49m\u001b[43mobjects\u001b[49m\u001b[43m[\u001b[49m\u001b[43mobjectName\u001b[49m\u001b[43m \u001b[49m\u001b[38;5;241;43m+\u001b[39;49m\u001b[43m \u001b[49m\u001b[38;5;124;43m'\u001b[39;49m\u001b[38;5;124;43m_trail\u001b[39;49m\u001b[38;5;124;43m'\u001b[39;49m\u001b[43m]\u001b[49m  \u001b[38;5;66;03m# Object to use as the particle instance\u001b[39;00m\n\u001b[0;32m     49\u001b[0m particle_instance\u001b[38;5;241m.\u001b[39muse_parent_particle \u001b[38;5;241m=\u001b[39m \u001b[38;5;28;01mTrue\u001b[39;00m\n",
      "\u001b[1;31mKeyError\u001b[0m: 'bpy_prop_collection[key]: key \"Sun_trail\" not found'"
     ]
    }
   ],
   "source": [
    "for planet in planets:\n",
    "    add_ordbit(planet)\n",
    "    add_trail(planet)\n"
   ]
  },
  {
   "cell_type": "code",
   "execution_count": null,
   "id": "8cd7b0ee",
   "metadata": {},
   "outputs": [],
   "source": [
    "# Variable for currently active object\n",
    "myobj = bpy.context.object['Earth']\n",
    "# Alternatively, if you know that the object is called 'Cube'\n",
    "# you can reach it by\n",
    "# myobj = bpy.data.objects['Cube']\n",
    "\n",
    "# Clear all previous animation data\n",
    "myobj.animation_data_clear()\n",
    "\n",
    "# set first and last frame index\n",
    "total_time = 2*pi # Animation should be 2*pi seconds long\n",
    "fps = 24 # Frames per second (fps)\n",
    "bpy.context.scene.frame_start = 0\n",
    "bpy.context.scene.frame_end = round(total_time*fps)+1\n",
    "\n",
    "# loop of frames and insert keyframes at every frame\n",
    "nlast = bpy.context.scene.frame_end\n",
    "for n in range(nlast):\n",
    "    t = total_time*n/nlast\n",
    "\n",
    "    # Set frame like this\n",
    "    bpy.context.scene.frame_set(n)\n",
    "    \n",
    "    # 𝐫(𝑡)=[5cos(𝑡),5sin(𝑡),sin(5𝑡)]\n",
    "    \n",
    "    # Set current location like this\n",
    "    myobj.location.x = 5*cos(t)\n",
    "    myobj.location.y = 5*sin(t)\n",
    "    myobj.location.z = 5*sin(t)\n",
    "    # myobj.location.x = ...\n",
    "    # myobj.location.y = ...\n",
    "    # myobj.location.z = ...\n",
    "\n",
    "    # Insert new keyframe for \"location\" like this\n",
    "    myobj.keyframe_insert(data_path=\"location\")"
   ]
  }
 ],
 "metadata": {
  "kernelspec": {
   "display_name": "blender",
   "language": "python",
   "name": "blender"
  },
  "language_info": {
   "codemirror_mode": {
    "name": "ipython",
    "version": 3
   },
   "file_extension": ".py",
   "mimetype": "text/x-python",
   "name": "python",
   "nbconvert_exporter": "python",
   "pygments_lexer": "ipython3",
   "version": "3.10.2"
  }
 },
 "nbformat": 4,
 "nbformat_minor": 5
}
