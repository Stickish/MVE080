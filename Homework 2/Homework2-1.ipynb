{
 "cells": [
  {
   "cell_type": "markdown",
   "metadata": {},
   "source": [
    "# Worksheet 2 - Scientific Visualization MVE080/MMG640\n",
    "## Colors, proportions, associations and time-series"
   ]
  },
  {
   "cell_type": "markdown",
   "metadata": {},
   "source": [
    "Name: _Your Name_"
   ]
  },
  {
   "cell_type": "markdown",
   "metadata": {},
   "source": [
    "This is the second worksheet in the course *Scientific Visualization*. This Jupyter notebook has three functions:\n",
    "\n",
    "1. It describes the tasks.\n",
    "2. It (sometimes) provides coding templates that you can use as a basis for your own code.\n",
    "3. It is a template also for the report that you upload in Canvas.\n",
    "\n",
    "The tasks are of various types: some are to read some text and then comment on it (no coding), and some are about creating visualizations using plotnine.\n",
    "Once you're finished with all the tasks, export this document as an HTML-file and upload it in Canvas.\n",
    "You are encouraged to discuss problems and solutions with your fellow students (in the class-room but also on CampusWire), but each student must solve all tasks by themselves and hand-in their own report.\n",
    "Notice that Jupyter notebooks use [Markdown](https://docs.github.com/en/github/writing-on-github/getting-started-with-writing-and-formatting-on-github/basic-writing-and-formatting-syntax#links) for writing text cells. Make sure you understand the basics. Later on you can also include $\\LaTeX$ in your Markdown cells.\n",
    "\n",
    "The below loads the packages required for this homework."
   ]
  },
  {
   "cell_type": "code",
   "execution_count": 1,
   "metadata": {},
   "outputs": [],
   "source": [
    "import numpy as np\n",
    "import pandas as pd\n",
    "from plotnine import *\n",
    "\n",
    "# A nice color palette for categorical data \n",
    "cbPalette = [\"#E69F00\", \"#56B4E9\", \"#009E73\", \n",
    "             \"#F0E442\", \"#0072B2\", \"#D55E00\", \n",
    "             \"#CC79A7\", \"#999999\"]"
   ]
  },
  {
   "cell_type": "markdown",
   "metadata": {},
   "source": [
    "## Task 1\n",
    "\n",
    "Read Chapter 4, 10, 11, 12 and 13 of [Fundamentals of Data Visualizations](https://clauswilke.com/dataviz/), then answer the questions below.\n",
    "\n",
    "### Question 1.1\n",
    "\n",
    "During Lecture 3 we discussed color palettes for categorical data. Briefly describe and motivate the three key properties we want a good categorical color palette to have.\n",
    "\n",
    "### Answer 1.1\n",
    "_Your answer here_\n",
    "\n",
    "### Question 1.2\n",
    "\n",
    "In Lecture 3 we used pie- and bar-charts to visualize proportions. Briefly discuss the benefits and drawbacks with using bar-charts and pie-charts to visualize proportions.\n",
    "\n",
    "### Answer 1.2\n",
    "_Your answer here_\n",
    "\n",
    "### Question 1.3\n",
    "\n",
    "In Lecture 3 we used a mosaic plot to analyses the Titanic data. Now consider Fig. 11.3 in the course book, what are the main takeaways we can read from this visual?\n",
    "\n",
    "### Answer 1.3\n",
    "_Your answer here_\n",
    "\n",
    "### Question 1.4\n",
    "\n",
    "In Lecture 4 we used a bubble chart (see also Fig. 12.3 in the course book). Why is this typically not a good option if we want to identify relationships (e.g. correlated variables) in the data?\n",
    "\n",
    "### Answer 1.4\n",
    "_Your answer here_\n",
    "\n",
    "### Question 1.5\n",
    "\n",
    "Consider Fig. 13.10 in the course book. What is main benefit of a connected scatter plot, and what is important to think about when creating such a visual?\n",
    "\n",
    "### Answer 1.5\n",
    "_Your answer here_\n"
   ]
  },
  {
   "cell_type": "markdown",
   "metadata": {},
   "source": [
    "## Colors \n",
    "\n",
    "For this part reading chapter 4 in [Fundamentals of Data Visualizations](https://clauswilke.com/dataviz/) can help."
   ]
  },
  {
   "cell_type": "markdown",
   "metadata": {},
   "source": [
    "### Question 2.1\n",
    "\n",
    "Colors can be a powerful tool for highlighting. Using the Simpson's paradox data on Canvas make a scatter plot where you highlight category D3 (all other categories can have the same color). Briefly motivate your choice of palette."
   ]
  },
  {
   "cell_type": "code",
   "execution_count": null,
   "metadata": {},
   "outputs": [],
   "source": [
    "# Insert code here \n",
    "# Remember to print the visual "
   ]
  },
  {
   "cell_type": "markdown",
   "metadata": {},
   "source": [
    "*Brief motivation*"
   ]
  },
  {
   "cell_type": "markdown",
   "metadata": {},
   "source": [
    "### Question 2.2 \n",
    "\n",
    "In Lecture 3 when comparing colormaps (e.g slide 2) I plotted this function;\n",
    "\n",
    "$$\n",
    "    z = 0.1 \\mathrm{sin}(r) + \\mathrm{cos}(r^2) \\mathrm{exp}\\Big(-\\frac{r}{2 \\pi} \\Big) \\ \\mathrm{where} \\\\\n",
    "    r = x^2 + y^2 \\quad x, y \\in [-4\\pi, 4\\pi],\n",
    "$$\n",
    "\n",
    "where I used colors to represent $z$. \n",
    "\n",
    "Now plot (as in Lecture 3 slide 2) the function\n",
    "\n",
    "$$\n",
    "    z = 0.1 \\mathrm{sin}(r) + \\mathrm{cos}(r^2) \\mathrm{exp}\\Big(-\\frac{x}{4 \\pi} \\Big) \\ \\mathrm{where} \\\\\n",
    "    r = x^2 + y^2 \\quad x, y \\in [-4\\pi, 4\\pi],\n",
    "$$\n",
    "\n",
    "using three different [colormaps](https://matplotlib.org/stable/tutorials/colors/colormaps.html) that are sufficiently distinct. Using three monochrome maps (e.g Greys, Blues and Purples) does not count as sufficiently distinct. Code for how to use the rainbow desaturated colormap is in the Lecture 3 notebook on Canvas.\n",
    "\n",
    "For each colormap briefly discuss its benefits based on what you can see from the plots you have created."
   ]
  },
  {
   "cell_type": "code",
   "execution_count": null,
   "metadata": {},
   "outputs": [],
   "source": [
    "# Insert code here for colormap 1\n",
    "# Remember to print the visual "
   ]
  },
  {
   "cell_type": "code",
   "execution_count": null,
   "metadata": {},
   "outputs": [],
   "source": [
    "# Insert code here for colormap 2\n",
    "# Remember to print the visual "
   ]
  },
  {
   "cell_type": "code",
   "execution_count": null,
   "metadata": {},
   "outputs": [],
   "source": [
    "# Insert code here for colormap 3\n",
    "# Remember to print the visual "
   ]
  },
  {
   "cell_type": "markdown",
   "metadata": {},
   "source": [
    "*Brief discussion*"
   ]
  },
  {
   "cell_type": "markdown",
   "metadata": {},
   "source": [
    "## Question 2.3\n",
    "\n",
    "On slide 21 in Lecture 3 (and on Canvas) is a recreation using Swedish data of the famous cover page for the economist climate issue. Using the weather data on Canvas recreate this visual.\n",
    "\n",
    "**Hint 1**: You can use the following syntax to get the colors correct;\n",
    "\n",
    "~~~\n",
    "# Color palette \n",
    "color_list = [np.array([103,0,31]) / 256,\n",
    "              np.array([178,24,43]) / 256, \n",
    "              np.array([214,96,77]) / 256, \n",
    "              np.array([244,165,130]) / 256, \n",
    "              np.array([253,219,199]) / 256, \n",
    "              np.array([247,247,247]) / 256, \n",
    "              np.array([209,229,240]) / 256, \n",
    "              np.array([146,197,222]) / 256, \n",
    "              np.array([67,147,195]) / 256, \n",
    "              np.array([33,102,172]) / 256, \n",
    "              np.array([5,48,97]) / 256]\n",
    "\n",
    "# Used in the ggplot call \n",
    "# [::-1] reverses an array (I entered the color in wrong order :)\n",
    "    + scale_fill_gradientn(colors=color_list[::-1], name = \"Temperature [C]\")\n",
    "~~~\n"
   ]
  },
  {
   "cell_type": "code",
   "execution_count": null,
   "metadata": {},
   "outputs": [],
   "source": [
    "# Insert code here \n",
    "# Remember to print the visual "
   ]
  },
  {
   "cell_type": "markdown",
   "metadata": {},
   "source": [
    "## Time-series\n",
    "\n",
    "For this part reading chapter 13 in [Fundamentals of Data Visualizations](https://clauswilke.com/dataviz/) can help.\n",
    "\n"
   ]
  },
  {
   "cell_type": "markdown",
   "metadata": {},
   "source": [
    "### Question 3.1\n",
    "\n",
    "In the lecture I showed how we can use points, lines or both to visualize a single time-series. Another way is to use area (Fig. 13.4 in the [course book](https://clauswilke.com/dataviz/)). Using the inflation data (on Canvas) choose a country and visualize its inflation over time using i) dots, ii) lines and iii) line with area shaded under it. Briefly discuss the benefit of also including the area."
   ]
  },
  {
   "cell_type": "code",
   "execution_count": null,
   "metadata": {},
   "outputs": [],
   "source": [
    "# Insert code here for dots\n",
    "# Remember to print the visual "
   ]
  },
  {
   "cell_type": "code",
   "execution_count": null,
   "metadata": {},
   "outputs": [],
   "source": [
    "# Insert code here for lines\n",
    "# Remember to print the visual "
   ]
  },
  {
   "cell_type": "code",
   "execution_count": null,
   "metadata": {},
   "outputs": [],
   "source": [
    "# Insert code here for area\n",
    "# Remember to print the visual "
   ]
  },
  {
   "cell_type": "markdown",
   "metadata": {},
   "source": [
    "*Brief motivation*"
   ]
  },
  {
   "cell_type": "markdown",
   "metadata": {},
   "source": [
    "### Question 3.2\n",
    "\n",
    "Using the inflation data choose 7 countries and visualize in a single plot (you are allowed to use facets) their inflation over time. If you have time I would try to plot the data using a you-are-here graphic (slide 9 Lecture 4). \n",
    "\n",
    "Briefly motivate your choice of plot."
   ]
  },
  {
   "cell_type": "code",
   "execution_count": null,
   "metadata": {},
   "outputs": [],
   "source": [
    "# Insert code here \n",
    "# Remember to print the visual "
   ]
  },
  {
   "cell_type": "markdown",
   "metadata": {},
   "source": [
    "*Brief motivation*"
   ]
  },
  {
   "cell_type": "markdown",
   "metadata": {},
   "source": [
    "### Question 3.3 \n",
    "\n",
    "The connected scatter plot (Fig. 13.10 in the [course book](https://clauswilke.com/dataviz/) is an approach that allows us to visualize two separate time-dependent variables. On the webpage I have uploaded an example for a connected scatter plot where I plot unemployment rate and apartment prices for Sweden from 1996-2020. Use the dataset on Canvas to recreate this visual. Briefly comment what you think is the main takeaway message from the plot. "
   ]
  },
  {
   "cell_type": "code",
   "execution_count": null,
   "metadata": {},
   "outputs": [],
   "source": [
    "# Insert code here \n",
    "# Remember to print the visual "
   ]
  },
  {
   "cell_type": "markdown",
   "metadata": {},
   "source": [
    "*Brief motivation*"
   ]
  },
  {
   "cell_type": "markdown",
   "metadata": {},
   "source": [
    "## Proportions \n",
    "\n",
    "For this part reading chapter 10-11 in [Fundamentals of Data Visualizations](https://clauswilke.com/dataviz/) can help."
   ]
  },
  {
   "cell_type": "markdown",
   "metadata": {},
   "source": [
    "### Question 4.1 \n",
    "\n",
    "Consider the Swedish election data from 2010 and 2014 which I have added below. Visualize the data such that it is easy to see, in a single plot, which was the third biggest party in 2010 and 2014.\n"
   ]
  },
  {
   "cell_type": "code",
   "execution_count": 5,
   "metadata": {},
   "outputs": [
    {
     "data": {
      "text/html": [
       "<div>\n",
       "<style scoped>\n",
       "    .dataframe tbody tr th:only-of-type {\n",
       "        vertical-align: middle;\n",
       "    }\n",
       "\n",
       "    .dataframe tbody tr th {\n",
       "        vertical-align: top;\n",
       "    }\n",
       "\n",
       "    .dataframe thead th {\n",
       "        text-align: right;\n",
       "    }\n",
       "</style>\n",
       "<table border=\"1\" class=\"dataframe\">\n",
       "  <thead>\n",
       "    <tr style=\"text-align: right;\">\n",
       "      <th></th>\n",
       "      <th>Party</th>\n",
       "      <th>Number_of_seats</th>\n",
       "      <th>Year</th>\n",
       "      <th>Color</th>\n",
       "      <th>Frac_seats</th>\n",
       "    </tr>\n",
       "  </thead>\n",
       "  <tbody>\n",
       "    <tr>\n",
       "      <th>0</th>\n",
       "      <td>Social Democrats</td>\n",
       "      <td>112</td>\n",
       "      <td>2018</td>\n",
       "      <td>#E8112d</td>\n",
       "      <td>32.091691</td>\n",
       "    </tr>\n",
       "    <tr>\n",
       "      <th>1</th>\n",
       "      <td>Left Party</td>\n",
       "      <td>19</td>\n",
       "      <td>2018</td>\n",
       "      <td>#DA291C</td>\n",
       "      <td>5.444126</td>\n",
       "    </tr>\n",
       "    <tr>\n",
       "      <th>2</th>\n",
       "      <td>Green Party</td>\n",
       "      <td>25</td>\n",
       "      <td>2018</td>\n",
       "      <td>#83CF39</td>\n",
       "      <td>7.163324</td>\n",
       "    </tr>\n",
       "    <tr>\n",
       "      <th>3</th>\n",
       "      <td>Centre Party</td>\n",
       "      <td>23</td>\n",
       "      <td>2018</td>\n",
       "      <td>#009933</td>\n",
       "      <td>6.590258</td>\n",
       "    </tr>\n",
       "    <tr>\n",
       "      <th>4</th>\n",
       "      <td>Liberal Party</td>\n",
       "      <td>24</td>\n",
       "      <td>2018</td>\n",
       "      <td>#006AB3</td>\n",
       "      <td>6.876791</td>\n",
       "    </tr>\n",
       "    <tr>\n",
       "      <th>5</th>\n",
       "      <td>Moderate Party</td>\n",
       "      <td>107</td>\n",
       "      <td>2018</td>\n",
       "      <td>#52BDEC</td>\n",
       "      <td>30.659026</td>\n",
       "    </tr>\n",
       "    <tr>\n",
       "      <th>6</th>\n",
       "      <td>Christian Democrats</td>\n",
       "      <td>19</td>\n",
       "      <td>2018</td>\n",
       "      <td>#000077</td>\n",
       "      <td>5.444126</td>\n",
       "    </tr>\n",
       "    <tr>\n",
       "      <th>7</th>\n",
       "      <td>Sweden Democrats</td>\n",
       "      <td>20</td>\n",
       "      <td>2018</td>\n",
       "      <td>#DDDD00</td>\n",
       "      <td>5.730659</td>\n",
       "    </tr>\n",
       "    <tr>\n",
       "      <th>0</th>\n",
       "      <td>Social Democrats</td>\n",
       "      <td>113</td>\n",
       "      <td>2014</td>\n",
       "      <td>#E8112d</td>\n",
       "      <td>32.378223</td>\n",
       "    </tr>\n",
       "    <tr>\n",
       "      <th>1</th>\n",
       "      <td>Left Party</td>\n",
       "      <td>21</td>\n",
       "      <td>2014</td>\n",
       "      <td>#DA291C</td>\n",
       "      <td>6.017192</td>\n",
       "    </tr>\n",
       "    <tr>\n",
       "      <th>2</th>\n",
       "      <td>Green Party</td>\n",
       "      <td>25</td>\n",
       "      <td>2014</td>\n",
       "      <td>#83CF39</td>\n",
       "      <td>7.163324</td>\n",
       "    </tr>\n",
       "    <tr>\n",
       "      <th>3</th>\n",
       "      <td>Centre Party</td>\n",
       "      <td>22</td>\n",
       "      <td>2014</td>\n",
       "      <td>#009933</td>\n",
       "      <td>6.303725</td>\n",
       "    </tr>\n",
       "    <tr>\n",
       "      <th>4</th>\n",
       "      <td>Liberal Party</td>\n",
       "      <td>19</td>\n",
       "      <td>2014</td>\n",
       "      <td>#006AB3</td>\n",
       "      <td>5.444126</td>\n",
       "    </tr>\n",
       "    <tr>\n",
       "      <th>5</th>\n",
       "      <td>Moderate Party</td>\n",
       "      <td>84</td>\n",
       "      <td>2014</td>\n",
       "      <td>#52BDEC</td>\n",
       "      <td>24.068768</td>\n",
       "    </tr>\n",
       "    <tr>\n",
       "      <th>6</th>\n",
       "      <td>Christian Democrats</td>\n",
       "      <td>16</td>\n",
       "      <td>2014</td>\n",
       "      <td>#000077</td>\n",
       "      <td>4.584527</td>\n",
       "    </tr>\n",
       "    <tr>\n",
       "      <th>7</th>\n",
       "      <td>Sweden Democrats</td>\n",
       "      <td>49</td>\n",
       "      <td>2014</td>\n",
       "      <td>#DDDD00</td>\n",
       "      <td>14.040115</td>\n",
       "    </tr>\n",
       "  </tbody>\n",
       "</table>\n",
       "</div>"
      ],
      "text/plain": [
       "                 Party  Number_of_seats  Year    Color  Frac_seats\n",
       "0     Social Democrats              112  2018  #E8112d   32.091691\n",
       "1           Left Party               19  2018  #DA291C    5.444126\n",
       "2          Green Party               25  2018  #83CF39    7.163324\n",
       "3         Centre Party               23  2018  #009933    6.590258\n",
       "4        Liberal Party               24  2018  #006AB3    6.876791\n",
       "5       Moderate Party              107  2018  #52BDEC   30.659026\n",
       "6  Christian Democrats               19  2018  #000077    5.444126\n",
       "7     Sweden Democrats               20  2018  #DDDD00    5.730659\n",
       "0     Social Democrats              113  2014  #E8112d   32.378223\n",
       "1           Left Party               21  2014  #DA291C    6.017192\n",
       "2          Green Party               25  2014  #83CF39    7.163324\n",
       "3         Centre Party               22  2014  #009933    6.303725\n",
       "4        Liberal Party               19  2014  #006AB3    5.444126\n",
       "5       Moderate Party               84  2014  #52BDEC   24.068768\n",
       "6  Christian Democrats               16  2014  #000077    4.584527\n",
       "7     Sweden Democrats               49  2014  #DDDD00   14.040115"
      ]
     },
     "execution_count": 5,
     "metadata": {},
     "output_type": "execute_result"
    }
   ],
   "source": [
    "swedish_election_2010 = pd.DataFrame({\"Party\" : [\"Social Democrats\", \"Left Party\", \"Green Party\", \"Centre Party\", \"Liberal Party\", \"Moderate Party\", \"Christian Democrats\", \"Sweden Democrats\"],\n",
    "                                      \"Number_of_seats\" : [112, 19, 25, 23, 24, 107, 19, 20],\n",
    "                                      \"Year\" : 2018, \n",
    "                                      \"Color\" : [\"#E8112d\", \"#DA291C\", \"#83CF39\", \"#009933\", \"#006AB3\", \"#52BDEC\", \"#000077\", \"#DDDD00\"]})\n",
    "swedish_election_2014 = pd.DataFrame({\"Party\" : [\"Social Democrats\", \"Left Party\", \"Green Party\", \"Centre Party\", \"Liberal Party\", \"Moderate Party\", \"Christian Democrats\", \"Sweden Democrats\"],\n",
    "                                      \"Number_of_seats\" : [113, 21, 25, 22, 19, 84, 16, 49],\n",
    "                                      \"Year\" : 2014, \n",
    "                                      \"Color\" : [\"#E8112d\", \"#DA291C\", \"#83CF39\", \"#009933\", \"#006AB3\", \"#52BDEC\", \"#000077\", \"#DDDD00\"]})\n",
    "swedish_election_2010[\"Frac_seats\"] = swedish_election_2010[\"Number_of_seats\"] / np.sum(swedish_election_2010[\"Number_of_seats\"]) * 100\n",
    "swedish_election_2014[\"Frac_seats\"] = swedish_election_2014[\"Number_of_seats\"] / np.sum(swedish_election_2014[\"Number_of_seats\"]) * 100\n",
    "\n",
    "data_election = pd.concat([swedish_election_2010, swedish_election_2014])\n",
    "data_election\n",
    "# Remember to print the visual \n"
   ]
  },
  {
   "cell_type": "markdown",
   "metadata": {},
   "source": [
    "### Question 4.2\n",
    "\n",
    "In the lecture we talked about how stalked charts (e.g. stacked densities or stacked bars) often do not work if we want to study the individual parts. Consider the stacked density graph on slide 25 in Lecture 3, using the data on Canvas create two different plots from which it is easier to see how the fraction GDP for the different has changed over the years."
   ]
  },
  {
   "cell_type": "code",
   "execution_count": null,
   "metadata": {},
   "outputs": [],
   "source": [
    "# Insert code here visual 1 \n",
    "# Remember to print the visual "
   ]
  },
  {
   "cell_type": "code",
   "execution_count": null,
   "metadata": {},
   "outputs": [],
   "source": [
    "# Insert code here visual 2 \n",
    "# Remember to print the visual "
   ]
  },
  {
   "cell_type": "markdown",
   "metadata": {},
   "source": [
    "## Assocations \n",
    "\n",
    "For this part reading chapter 10-11 in [Fundamentals of Data Visualizations](https://clauswilke.com/dataviz/) can help."
   ]
  },
  {
   "cell_type": "markdown",
   "metadata": {},
   "source": [
    "### Question 5.1 \n",
    "\n",
    "Using the dataset with different indicators, such as life-happiness, perception of corruption etc..., compare two variables using a scatter plot. Briefly discuss the take-away from the visual. In the plot color the different continents."
   ]
  },
  {
   "cell_type": "code",
   "execution_count": null,
   "metadata": {},
   "outputs": [],
   "source": [
    "# Insert code here \n",
    "# Remember to print the visual "
   ]
  },
  {
   "cell_type": "markdown",
   "metadata": {},
   "source": [
    "*Brief motivation*"
   ]
  },
  {
   "cell_type": "markdown",
   "metadata": {},
   "source": [
    "### Question 5.2 \n",
    "\n",
    "Let us explore the dataset in question 5.1 a bit deeper. Choose five different variables and create a visual where we can clearly see the associations between all pair of variables. Briefly discuss the take-away from the visual. In the plot color the different continents."
   ]
  },
  {
   "cell_type": "code",
   "execution_count": null,
   "metadata": {},
   "outputs": [],
   "source": [
    "# Insert code here \n",
    "# Remember to print the visual "
   ]
  },
  {
   "cell_type": "markdown",
   "metadata": {},
   "source": [
    "*Brief motivation*"
   ]
  },
  {
   "cell_type": "markdown",
   "metadata": {},
   "source": [
    "### Question 5.3 \n",
    "\n",
    "Has the amount of $\\mathrm{CO}_2$ released per person increased from 1970 to 2018 for a majority of countries, and if yes what magnitude of increase are we talking about? Use the $\\mathrm{CO}_2$ on Canvas and create a visual which answers these questions."
   ]
  },
  {
   "cell_type": "code",
   "execution_count": null,
   "metadata": {},
   "outputs": [],
   "source": [
    "# Insert code here \n",
    "# Remember to print the visual "
   ]
  }
 ],
 "metadata": {
  "kernelspec": {
   "display_name": "Python 3.8.13 ('MVE080')",
   "language": "python",
   "name": "python3"
  },
  "language_info": {
   "codemirror_mode": {
    "name": "ipython",
    "version": 3
   },
   "file_extension": ".py",
   "mimetype": "text/x-python",
   "name": "python",
   "nbconvert_exporter": "python",
   "pygments_lexer": "ipython3",
   "version": "3.8.13"
  },
  "orig_nbformat": 4,
  "vscode": {
   "interpreter": {
    "hash": "08dea5f0f27b0721f034b5502471c70c33d2dbc5a6c665b51ce45daf208a7e7c"
   }
  }
 },
 "nbformat": 4,
 "nbformat_minor": 2
}
